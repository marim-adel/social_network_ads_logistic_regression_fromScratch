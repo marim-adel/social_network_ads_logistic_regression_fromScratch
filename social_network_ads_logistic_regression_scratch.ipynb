{
  "nbformat": 4,
  "nbformat_minor": 0,
  "metadata": {
    "colab": {
      "provenance": []
    },
    "kernelspec": {
      "name": "python3",
      "display_name": "Python 3"
    },
    "language_info": {
      "name": "python"
    }
  },
  "cells": [
    {
      "cell_type": "code",
      "execution_count": 1,
      "metadata": {
        "id": "MSOW6QrIXgny"
      },
      "outputs": [],
      "source": [
        "import numpy as np\n",
        "import pandas as pd\n",
        "import matplotlib.pyplot as plt\n",
        "from sklearn.model_selection import train_test_split\n",
        "from sklearn.preprocessing import StandardScaler\n"
      ]
    },
    {
      "cell_type": "code",
      "source": [
        "data = pd.read_csv(\"/content/Social_Network_Ads.csv\")\n",
        "print(data.head())\n",
        "print(data.info())\n"
      ],
      "metadata": {
        "colab": {
          "base_uri": "https://localhost:8080/"
        },
        "id": "4R6lBuZoYH0s",
        "outputId": "d2ad2cdd-cc7d-4a18-ee1b-1b4d5ed3f41e"
      },
      "execution_count": 3,
      "outputs": [
        {
          "output_type": "stream",
          "name": "stdout",
          "text": [
            "    User ID  Gender  Age  EstimatedSalary  Purchased\n",
            "0  15624510    Male   19            19000          0\n",
            "1  15810944    Male   35            20000          0\n",
            "2  15668575  Female   26            43000          0\n",
            "3  15603246  Female   27            57000          0\n",
            "4  15804002    Male   19            76000          0\n",
            "<class 'pandas.core.frame.DataFrame'>\n",
            "RangeIndex: 400 entries, 0 to 399\n",
            "Data columns (total 5 columns):\n",
            " #   Column           Non-Null Count  Dtype \n",
            "---  ------           --------------  ----- \n",
            " 0   User ID          400 non-null    int64 \n",
            " 1   Gender           400 non-null    object\n",
            " 2   Age              400 non-null    int64 \n",
            " 3   EstimatedSalary  400 non-null    int64 \n",
            " 4   Purchased        400 non-null    int64 \n",
            "dtypes: int64(4), object(1)\n",
            "memory usage: 15.8+ KB\n",
            "None\n"
          ]
        }
      ]
    },
    {
      "cell_type": "code",
      "source": [
        "X = data.iloc[:, [2, 3]].values\n",
        "y = data.iloc[:, -1].values\n",
        "\n",
        "X_train, X_test, y_train, y_test = train_test_split(\n",
        "    X, y, test_size=0.2, random_state=42\n",
        ")\n",
        "\n",
        "scaler = StandardScaler()\n",
        "X_train = scaler.fit_transform(X_train)\n",
        "X_test = scaler.transform(X_test)\n"
      ],
      "metadata": {
        "id": "rMwREki6YTEb"
      },
      "execution_count": 4,
      "outputs": []
    },
    {
      "cell_type": "code",
      "source": [
        "def sigmoid(z):\n",
        "    return 1 / (1 + np.exp(-z))\n",
        "\n",
        "def compute_loss(y, y_hat):\n",
        "    m = len(y)\n",
        "    return - (1/m) * np.sum(y*np.log(y_hat+1e-9) + (1-y)*np.log(1-y_hat+1e-9))\n",
        "\n",
        "def gradient_descent(X, y, weights, bias, lr):\n",
        "    m = X.shape[0]\n",
        "    y_hat = sigmoid(np.dot(X, weights) + bias)\n",
        "    dw = (1/m) * np.dot(X.T, (y_hat - y))\n",
        "    db = (1/m) * np.sum(y_hat - y)\n",
        "    weights -= lr * dw\n",
        "    bias -= lr * db\n",
        "    return weights, bias\n"
      ],
      "metadata": {
        "id": "X08o9yg9YdHp"
      },
      "execution_count": 5,
      "outputs": []
    },
    {
      "cell_type": "code",
      "source": [
        "def train(X, y, lr=0.01, epochs=1000):\n",
        "    n_features = X.shape[1]\n",
        "    weights = np.zeros(n_features)\n",
        "    bias = 0\n",
        "    losses = []\n",
        "\n",
        "    for i in range(epochs):\n",
        "        y_hat = sigmoid(np.dot(X, weights) + bias)\n",
        "        loss = compute_loss(y, y_hat)\n",
        "        losses.append(loss)\n",
        "        weights, bias = gradient_descent(X, y, weights, bias, lr)\n",
        "\n",
        "        if i % 100 == 0:\n",
        "            print(f\"Epoch {i}, Loss: {loss:.4f}\")\n",
        "\n",
        "    return weights, bias, losses\n",
        "\n",
        "weights, bias, losses = train(X_train, y_train, lr=0.1, epochs=1000)\n"
      ],
      "metadata": {
        "colab": {
          "base_uri": "https://localhost:8080/"
        },
        "id": "vPWK6a5rYilB",
        "outputId": "02a1e561-67ba-4e78-feb5-3db09b4afd3c"
      },
      "execution_count": 6,
      "outputs": [
        {
          "output_type": "stream",
          "name": "stdout",
          "text": [
            "Epoch 0, Loss: 0.6931\n",
            "Epoch 100, Loss: 0.4048\n",
            "Epoch 200, Loss: 0.3824\n",
            "Epoch 300, Loss: 0.3765\n",
            "Epoch 400, Loss: 0.3744\n",
            "Epoch 500, Loss: 0.3735\n",
            "Epoch 600, Loss: 0.3732\n",
            "Epoch 700, Loss: 0.3730\n",
            "Epoch 800, Loss: 0.3729\n",
            "Epoch 900, Loss: 0.3729\n"
          ]
        }
      ]
    },
    {
      "cell_type": "code",
      "source": [
        "def predict(X, weights, bias, threshold=0.5):\n",
        "    y_prob = sigmoid(np.dot(X, weights) + bias)\n",
        "    return (y_prob >= threshold).astype(int)\n",
        "\n",
        "y_pred = predict(X_test, weights, bias)\n",
        "\n",
        "from sklearn.metrics import accuracy_score, precision_score, recall_score, f1_score, confusion_matrix\n",
        "\n",
        "print(\"Accuracy:\", accuracy_score(y_test, y_pred))\n",
        "print(\"Precision:\", precision_score(y_test, y_pred))\n",
        "print(\"Recall:\", recall_score(y_test, y_pred))\n",
        "print(\"F1 Score:\", f1_score(y_test, y_pred))\n",
        "print(\"Confusion Matrix:\\n\", confusion_matrix(y_test, y_pred))\n"
      ],
      "metadata": {
        "colab": {
          "base_uri": "https://localhost:8080/"
        },
        "id": "fh0nU1mDYmaU",
        "outputId": "86efaa56-d349-4b1e-c778-6c60e17d7345"
      },
      "execution_count": 7,
      "outputs": [
        {
          "output_type": "stream",
          "name": "stdout",
          "text": [
            "Accuracy: 0.8875\n",
            "Precision: 0.9130434782608695\n",
            "Recall: 0.75\n",
            "F1 Score: 0.8235294117647058\n",
            "Confusion Matrix:\n",
            " [[50  2]\n",
            " [ 7 21]]\n"
          ]
        }
      ]
    },
    {
      "cell_type": "code",
      "source": [
        "plt.plot(losses)\n",
        "plt.xlabel(\"Epochs\")\n",
        "plt.ylabel(\"Loss\")\n",
        "plt.title(\"Training Loss Curve\")\n",
        "plt.show()\n"
      ],
      "metadata": {
        "colab": {
          "base_uri": "https://localhost:8080/",
          "height": 472
        },
        "id": "rrd5s-rkYr1Z",
        "outputId": "5b0586a4-d03c-44a9-b9a8-1964eb94d8cf"
      },
      "execution_count": 8,
      "outputs": [
        {
          "output_type": "display_data",
          "data": {
            "text/plain": [
              "<Figure size 640x480 with 1 Axes>"
            ],
            "image/png": "[encoded data removed]"
          },
          "metadata": {}
        }
      ]
    }
  ]
}